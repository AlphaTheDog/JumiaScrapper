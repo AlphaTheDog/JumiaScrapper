{
 "cells": [
  {
   "cell_type": "markdown",
   "id": "224fad99-5464-470b-b1ac-d012cc1506ad",
   "metadata": {},
   "source": [
    "importing necessary modules"
   ]
  },
  {
   "cell_type": "code",
   "execution_count": 1,
   "id": "1517b3c9-94bd-4adc-b649-b66a29908c83",
   "metadata": {},
   "outputs": [],
   "source": [
    "import pandas as pd\n",
    "from selenium import webdriver\n",
    "from bs4 import BeautifulSoup\n",
    "from selenium.webdriver.chrome.options import Options\n",
    "from selenium.webdriver.common.by import By\n",
    "import time\n",
    "from selenium.webdriver.support import expected_conditions as EC\n",
    "from selenium.webdriver.support.wait import WebDriverWait"
   ]
  },
  {
   "cell_type": "markdown",
   "id": "974c7927-f636-4f16-8f05-82218d384dfb",
   "metadata": {},
   "source": [
    "setting up chrome settings:hheadless+window size"
   ]
  },
  {
   "cell_type": "code",
   "execution_count": 2,
   "id": "9bd4bb60-d49e-4704-b9ff-7f214ee6b85e",
   "metadata": {},
   "outputs": [],
   "source": [
    "options=Options()\n",
    "options.add_argument('--headless')\n",
    "options.add_argument('--disable-gpu')\n",
    "options.add_argument('--window-size=1920,1200')"
   ]
  },
  {
   "cell_type": "markdown",
   "id": "b01345b6-12d5-41d9-8a61-178627142714",
   "metadata": {},
   "source": [
    "getting our site"
   ]
  },
  {
   "cell_type": "code",
   "execution_count": 3,
   "id": "57939fc5-661c-4166-9f4c-3c968ad66994",
   "metadata": {},
   "outputs": [],
   "source": [
    "driver=webdriver.Chrome(options=options)\n",
    "site='https://www.jumia.co.ke/'\n",
    "driver.get(site)"
   ]
  },
  {
   "cell_type": "markdown",
   "id": "3c6cc995-46f3-4b36-93ab-ac5813547517",
   "metadata": {},
   "source": [
    "clicking on news pop up"
   ]
  },
  {
   "cell_type": "code",
   "execution_count": 4,
   "id": "75eb577c-b021-49e9-b318-3f4e8124bb24",
   "metadata": {},
   "outputs": [],
   "source": [
    "news=driver.find_element(By.CLASS_NAME,\"cls\")\n",
    "news.click()"
   ]
  },
  {
   "cell_type": "markdown",
   "id": "a38fcf2c-c0da-4c2f-a971-61648c725b72",
   "metadata": {},
   "source": [
    "clicking on accept cookies pop up"
   ]
  },
  {
   "cell_type": "code",
   "execution_count": 5,
   "id": "8e4a8e38-fddf-4909-9d21-1d06006faedb",
   "metadata": {},
   "outputs": [],
   "source": [
    "cookies=driver.find_element(By.CLASS_NAME,\"banner-pop\").find_element(By.TAG_NAME,\"button\").click()"
   ]
  },
  {
   "cell_type": "markdown",
   "id": "b914a746-08e3-4ae3-af8e-0aead7a40e47",
   "metadata": {},
   "source": [
    "clicking on phones option where we want to scrape some phone data"
   ]
  },
  {
   "cell_type": "code",
   "execution_count": 6,
   "id": "05c57e30-bb0b-4e26-9630-56bd6054342a",
   "metadata": {},
   "outputs": [],
   "source": [
    "phones=driver.find_element(By.CLASS_NAME,\"flyout\").find_elements(By.CLASS_NAME,'itm')\n",
    "phones[1].click()"
   ]
  },
  {
   "cell_type": "markdown",
   "id": "d30034c8-3fc8-4769-88be-e67a9a2bab2d",
   "metadata": {},
   "source": [
    "checking the different phone categories available"
   ]
  },
  {
   "cell_type": "code",
   "execution_count": 7,
   "id": "47dc83c3-b93e-4941-b05b-134d9ba1ec12",
   "metadata": {},
   "outputs": [
    {
     "data": {
      "text/plain": [
       "9"
      ]
     },
     "execution_count": 7,
     "metadata": {},
     "output_type": "execute_result"
    }
   ],
   "source": [
    "categories=driver.find_element(By.ID,\"ctlg\").find_elements(By.CLASS_NAME,\"col16\")\n",
    "len(categories)"
   ]
  },
  {
   "cell_type": "code",
   "execution_count": 8,
   "id": "865e3429-5ac1-4aed-af8b-f3528ffb095a",
   "metadata": {},
   "outputs": [
    {
     "name": "stdout",
     "output_type": "stream",
     "text": [
      "https://www.jumia.co.ke/mlp-tecno-official-store/\n",
      "waiting\n",
      "finished\n",
      "https://www.jumia.co.ke/mlp-oppo-store/\n",
      "waiting\n",
      "finished\n",
      "https://www.jumia.co.ke/cell-phones/\n",
      "waiting\n",
      "finished\n",
      "https://www.jumia.co.ke/smartphones/?tag=REFU\n",
      "waiting\n",
      "finished\n",
      "https://www.jumia.co.ke/mobile-accessories\n",
      "waiting\n",
      "finished\n"
     ]
    }
   ],
   "source": [
    "data=[]\n",
    "for category in categories[3:8]:\n",
    "    #title of the category\n",
    "    title=category.find_element(By.TAG_NAME,'header').find_element(By.TAG_NAME,'h2').text\n",
    "    #secondary link for the category\n",
    "    link=category.find_element(By.CLASS_NAME,'col').find_element(By.TAG_NAME,'a').get_attribute('href')\n",
    "    #getting secondary link for the specific category\n",
    "    driver1=webdriver.Chrome(options=options)\n",
    "    driver1.get(link)\n",
    "    #sleeping as we wait for the whole page to load\n",
    "    time.sleep(10)\n",
    "    #clicking on news and cookies pop ups\n",
    "    news=driver1.find_element(By.CLASS_NAME,\"cls\")\n",
    "    news.click()\n",
    "    cookies=driver1.find_element(By.CLASS_NAME,\"banner-pop\").find_element(By.TAG_NAME,\"button\").click()\n",
    "    print(link)\n",
    "    driver.implicitly_wait(20)\n",
    "    print('waiting')\n",
    "    time.sleep(10)\n",
    "    #soup object \n",
    "    soup=BeautifulSoup(driver1.page_source,'html.parser')\n",
    "    print('finished')\n",
    "    catalog=soup.find('div',class_='-phs -pvxs row _no-g _4cl-3cm-shs').find_all('article')\n",
    "    #looping through each item extracting raw required data and storing it in a list\n",
    "    for item in catalog:\n",
    "        store=[]\n",
    "        info=item.find('div',class_='info')\n",
    "        spec=info.find('h3',class_='name').text\n",
    "        specs=spec.split(',')\n",
    "        name=specs[0]\n",
    "        originalprice=info.find('div',class_='prc').text\n",
    "        try:\n",
    "            rating=info.find('div',class_='rev').text\n",
    "            discountedprice=info.find('div',class_='s-prc-w').find('div',class_='old').text\n",
    "            discount=info.find('div',class_='s-prc-w').find('div',class_='bdg _dsct _sm').text\n",
    "        except AttributeError:\n",
    "            rating=' '\n",
    "            discountedprice=' '\n",
    "            discount=' '\n",
    "        store=[title,name,specs,originalprice,discountedprice,discount,rating]\n",
    "        data.append(store)\n",
    "    driver1.quit()"
   ]
  },
  {
   "cell_type": "code",
   "execution_count": 9,
   "id": "fc40f364-ab1e-4012-8f5b-26b930571a2c",
   "metadata": {},
   "outputs": [],
   "source": [
    "driver.quit()"
   ]
  },
  {
   "cell_type": "code",
   "execution_count": 11,
   "id": "d90ca793-bb8a-47e6-8a94-2561067f1052",
   "metadata": {},
   "outputs": [
    {
     "data": {
      "text/plain": [
       "['Deals From Tecno',\n",
       " 'Tecno CAMON 30S',\n",
       " ['Tecno CAMON 30S',\n",
       "  ' 6.78\" FHD+AMOLED 120Hz',\n",
       "  ' 128GB ROM+6GB RAM (+6GB Extended RAM) (4G Dual Sim)',\n",
       "  ' 5000mAh- Celestial Black (1YR WRTY)'],\n",
       " 'KSh 19,999',\n",
       " 'KSh 24,999',\n",
       " '20%',\n",
       " '4.1 out of 5(16)']"
      ]
     },
     "execution_count": 11,
     "metadata": {},
     "output_type": "execute_result"
    }
   ],
   "source": [
    "data[0]"
   ]
  },
  {
   "cell_type": "code",
   "execution_count": null,
   "id": "6331383d-c5fe-46b3-ae95-5d6443b01eea",
   "metadata": {},
   "outputs": [],
   "source": []
  },
  {
   "cell_type": "markdown",
   "id": "25f2210b-3b05-4557-8e3e-f1134b4a9fbb",
   "metadata": {},
   "source": [
    "storing the data in a dataframe"
   ]
  },
  {
   "cell_type": "code",
   "execution_count": 12,
   "id": "4f6bfd46-18d0-4d3e-9f71-0a4ebb322cf6",
   "metadata": {},
   "outputs": [
    {
     "data": {
      "text/html": [
       "<div>\n",
       "<style scoped>\n",
       "    .dataframe tbody tr th:only-of-type {\n",
       "        vertical-align: middle;\n",
       "    }\n",
       "\n",
       "    .dataframe tbody tr th {\n",
       "        vertical-align: top;\n",
       "    }\n",
       "\n",
       "    .dataframe thead th {\n",
       "        text-align: right;\n",
       "    }\n",
       "</style>\n",
       "<table border=\"1\" class=\"dataframe\">\n",
       "  <thead>\n",
       "    <tr style=\"text-align: right;\">\n",
       "      <th></th>\n",
       "      <th>BRAND</th>\n",
       "      <th>NAME</th>\n",
       "      <th>SPECS</th>\n",
       "      <th>D.PRICE</th>\n",
       "      <th>O.PRICE</th>\n",
       "      <th>DSCT</th>\n",
       "      <th>RATING</th>\n",
       "    </tr>\n",
       "  </thead>\n",
       "  <tbody>\n",
       "    <tr>\n",
       "      <th>0</th>\n",
       "      <td>Deals From Tecno</td>\n",
       "      <td>Tecno CAMON 30S</td>\n",
       "      <td>[Tecno CAMON 30S,  6.78\" FHD+AMOLED 120Hz,  12...</td>\n",
       "      <td>KSh 19,999</td>\n",
       "      <td>KSh 24,999</td>\n",
       "      <td>20%</td>\n",
       "      <td>4.1 out of 5(16)</td>\n",
       "    </tr>\n",
       "    <tr>\n",
       "      <th>1</th>\n",
       "      <td>Deals From Tecno</td>\n",
       "      <td>Tecno POP 9 120Hz 6.67\" 64GB ROM+3GB RAM*(+3GB...</td>\n",
       "      <td>[Tecno POP 9 120Hz 6.67\" 64GB ROM+3GB RAM*(+3G...</td>\n",
       "      <td>KSh 12,999</td>\n",
       "      <td></td>\n",
       "      <td></td>\n",
       "      <td></td>\n",
       "    </tr>\n",
       "    <tr>\n",
       "      <th>2</th>\n",
       "      <td>Deals From Tecno</td>\n",
       "      <td>Tecno Spark 30c</td>\n",
       "      <td>[Tecno Spark 30c,  6.67'' HD+,  UP To 128GB RO...</td>\n",
       "      <td>KSh 14,999</td>\n",
       "      <td></td>\n",
       "      <td></td>\n",
       "      <td></td>\n",
       "    </tr>\n",
       "    <tr>\n",
       "      <th>3</th>\n",
       "      <td>Deals From Tecno</td>\n",
       "      <td>Tecno POP 8</td>\n",
       "      <td>[Tecno POP 8,  6.6\",  2GB RAM + 64GB,  13MP,  ...</td>\n",
       "      <td>KSh 8,999</td>\n",
       "      <td>KSh 10,999</td>\n",
       "      <td>18%</td>\n",
       "      <td>4.4 out of 5(73)</td>\n",
       "    </tr>\n",
       "    <tr>\n",
       "      <th>4</th>\n",
       "      <td>Deals From Tecno</td>\n",
       "      <td>Tecno CAMON 30 Premier 5G 6.77'' AMOLED Screen</td>\n",
       "      <td>[Tecno CAMON 30 Premier 5G 6.77'' AMOLED Scree...</td>\n",
       "      <td>KSh 41,999</td>\n",
       "      <td>KSh 74,999</td>\n",
       "      <td>44%</td>\n",
       "      <td>4.6 out of 5(5)</td>\n",
       "    </tr>\n",
       "  </tbody>\n",
       "</table>\n",
       "</div>"
      ],
      "text/plain": [
       "              BRAND                                               NAME  \\\n",
       "0  Deals From Tecno                                    Tecno CAMON 30S   \n",
       "1  Deals From Tecno  Tecno POP 9 120Hz 6.67\" 64GB ROM+3GB RAM*(+3GB...   \n",
       "2  Deals From Tecno                                    Tecno Spark 30c   \n",
       "3  Deals From Tecno                                        Tecno POP 8   \n",
       "4  Deals From Tecno     Tecno CAMON 30 Premier 5G 6.77'' AMOLED Screen   \n",
       "\n",
       "                                               SPECS     D.PRICE     O.PRICE  \\\n",
       "0  [Tecno CAMON 30S,  6.78\" FHD+AMOLED 120Hz,  12...  KSh 19,999  KSh 24,999   \n",
       "1  [Tecno POP 9 120Hz 6.67\" 64GB ROM+3GB RAM*(+3G...  KSh 12,999               \n",
       "2  [Tecno Spark 30c,  6.67'' HD+,  UP To 128GB RO...  KSh 14,999               \n",
       "3  [Tecno POP 8,  6.6\",  2GB RAM + 64GB,  13MP,  ...   KSh 8,999  KSh 10,999   \n",
       "4  [Tecno CAMON 30 Premier 5G 6.77'' AMOLED Scree...  KSh 41,999  KSh 74,999   \n",
       "\n",
       "  DSCT            RATING  \n",
       "0  20%  4.1 out of 5(16)  \n",
       "1                         \n",
       "2                         \n",
       "3  18%  4.4 out of 5(73)  \n",
       "4  44%   4.6 out of 5(5)  "
      ]
     },
     "execution_count": 12,
     "metadata": {},
     "output_type": "execute_result"
    }
   ],
   "source": [
    "columns=['BRAND','NAME','SPECS','D.PRICE','O.PRICE','DSCT','RATING']\n",
    "df=pd.DataFrame(data)\n",
    "df.columns=columns\n",
    "df.head()"
   ]
  },
  {
   "cell_type": "code",
   "execution_count": null,
   "id": "2106f1d7-42ca-4d47-b6ad-926192142c59",
   "metadata": {},
   "outputs": [],
   "source": []
  },
  {
   "cell_type": "code",
   "execution_count": null,
   "id": "9dc64fc5-1f30-4f30-a0c1-3b3f5ec6a2e7",
   "metadata": {},
   "outputs": [],
   "source": []
  }
 ],
 "metadata": {
  "kernelspec": {
   "display_name": "Python 3 (ipykernel)",
   "language": "python",
   "name": "python3"
  },
  "language_info": {
   "codemirror_mode": {
    "name": "ipython",
    "version": 3
   },
   "file_extension": ".py",
   "mimetype": "text/x-python",
   "name": "python",
   "nbconvert_exporter": "python",
   "pygments_lexer": "ipython3",
   "version": "3.12.7"
  }
 },
 "nbformat": 4,
 "nbformat_minor": 5
}
